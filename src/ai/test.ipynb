{
 "cells": [
  {
   "cell_type": "code",
   "execution_count": 3,
   "metadata": {},
   "outputs": [],
   "source": [
    "import os\n",
    "from PIL import Image\n",
    "\n",
    "import math\n",
    "\n",
    "import keras\n",
    "from keras.applications.inception_v3 import InceptionV3\n",
    "from keras.models import Sequential, Model\n",
    "from keras.layers import Dense, Dropout, Activation, Flatten\n",
    "from keras.layers import Convolution2D, MaxPooling2D, ZeroPadding2D, GlobalAveragePooling2D, AveragePooling2D\n",
    "from keras.layers import LeakyReLU, Input\n",
    "from keras.layers import BatchNormalization\n",
    "from keras.preprocessing import image\n",
    "from keras.preprocessing.image import ImageDataGenerator\n",
    "from keras.callbacks import ModelCheckpoint, CSVLogger, LearningRateScheduler, ReduceLROnPlateau, EarlyStopping\n",
    "from keras.optimizers import SGD\n",
    "from keras import metrics\n",
    "from keras.regularizers import l2\n",
    "\n",
    "import keras.backend as K"
   ]
  },
  {
   "cell_type": "code",
   "execution_count": 4,
   "metadata": {},
   "outputs": [
    {
     "name": "stdout",
     "output_type": "stream",
     "text": [
      "Found 118486 images belonging to 150 classes.\n",
      "Found 14756 images belonging to 150 classes.\n",
      "Found 14928 images belonging to 150 classes.\n"
     ]
    }
   ],
   "source": [
    "train_dir = r'D:\\pythonProject\\hansik\\final_food\\Training'\n",
    "val_dir = r'D:\\pythonProject\\hansik\\final_food\\Validation'\n",
    "test_dir = r'D:\\pythonProject\\hansik\\final_food\\Test'\n",
    "\n",
    "train_datagen = ImageDataGenerator(\n",
    "    rescale = 1./255,\n",
    "    rotation_range=20,\n",
    "    width_shift_range=0.2,\n",
    "    height_shift_range=0.2,\n",
    "    shear_range=0.2,\n",
    "    zoom_range=0.2,\n",
    "    horizontal_flip=True,\n",
    "    fill_mode='nearest'\n",
    ")\n",
    "\n",
    "val_datagen = ImageDataGenerator(rescale = 1./255) # 검증, 테스트 데이터는 augmentation 하면 안됨!\n",
    "test_datagen = ImageDataGenerator(rescale= 1./255) \n",
    "\n",
    "train_generator = train_datagen.flow_from_directory(\n",
    "    train_dir,\n",
    "    target_size = (299, 299),\n",
    "    batch_size = 32, # gpu 연산 -> 2의 거듭제곱꼴로 맞추는 것이 좋다고 함\n",
    "    seed = 42\n",
    ")\n",
    "\n",
    "val_generator = val_datagen.flow_from_directory(\n",
    "    val_dir,\n",
    "    target_size = (299, 299),\n",
    "    batch_size = 32, # gpu 연산 -> 2의 거듭제곱꼴로 맞추는 것이 좋다고 함\n",
    "    shuffle=True,\n",
    "    seed = 42\n",
    ")\n",
    "\n",
    "test_generator = test_datagen.flow_from_directory(\n",
    "    test_dir,\n",
    "    target_size = (299, 299),\n",
    "    batch_size = 32, # gpu 연산 -> 2의 거듭제곱꼴로 맞추는 것이 좋다고 함\n",
    "    seed = 42\n",
    ")"
   ]
  },
  {
   "cell_type": "code",
   "execution_count": 6,
   "metadata": {},
   "outputs": [
    {
     "name": "stdout",
     "output_type": "stream",
     "text": [
      "./model/2024.5.31.14h/결과 : {epoch:02d}-{val_acc:.4f}.hdf5\n"
     ]
    }
   ],
   "source": [
    "from datetime import datetime\n",
    "\n",
    "today = datetime.today()      # 현재 일 가져오기\n",
    "\n",
    "date ='{}.{}.{}.{}h'.format(today.year, today.month, today.day, today.hour)\n",
    "date\n",
    "\n",
    "MODEL_SAVE_FOLDER_PATH = './model/{}/'.format(date)\n",
    "\n",
    "# 디렉토리가 없는 경우에만 디렉토리 생성\n",
    "if not os.path.exists(MODEL_SAVE_FOLDER_PATH):\n",
    "    os.makedirs(MODEL_SAVE_FOLDER_PATH)\n",
    "\n",
    "model_path = MODEL_SAVE_FOLDER_PATH + '결과 : {epoch:02d}-{val_acc:.4f}.hdf5'\n",
    "print(model_path)\n"
   ]
  },
  {
   "cell_type": "code",
   "execution_count": 7,
   "metadata": {},
   "outputs": [],
   "source": [
    "# create the base pre-trained model\n",
    "base_model = InceptionV3(weights='imagenet', include_top=False, input_tensor=Input(shape=(299, 299, 3)))\n",
    "\n",
    "x = base_model.output\n",
    "x = AveragePooling2D(pool_size=(8, 8))(x)\n",
    "x = Dropout(.4)(x)\n",
    "x = Flatten()(x)\n",
    "x = Dropout(.4)(x)\n",
    "predictions = Dense(150,kernel_initializer='glorot_uniform', \n",
    "                    kernel_regularizer=l2(.0005), activation='softmax')(x)\n",
    "\n",
    "# this is the model we will train\n",
    "model = Model(inputs=base_model.input, outputs=predictions)\n",
    "\n",
    "opt = SGD(learning_rate=.01, momentum=.9)\n",
    "model.compile(optimizer=opt, loss='categorical_crossentropy', metrics=['accuracy'])\n",
    "\n",
    "early_stopping = EarlyStopping(monitor='val_loss', patience=10) # 조기종료 콜백함수 정의\n",
    "cb_checkpoint = ModelCheckpoint(filepath=model_path, monitor='val_acc',\n",
    "                            verbose=1, save_best_only=True) # 체크포인트 저장"
   ]
  },
  {
   "cell_type": "code",
   "execution_count": 6,
   "metadata": {},
   "outputs": [],
   "source": [
    "# lr_scheduler : epoch 증가함에 따라 learning_rate를 작게 해 cosf_function이 최적값 주변에서 맴도는 것을 완화!\n",
    "\n",
    "def schedule(epoch):\n",
    "    if epoch < 15:\n",
    "        return .01\n",
    "    elif epoch < 28:\n",
    "        return .002\n",
    "    else:\n",
    "        return .0004\n",
    "lr_scheduler = LearningRateScheduler(schedule)"
   ]
  },
  {
   "cell_type": "code",
   "execution_count": 8,
   "metadata": {},
   "outputs": [
    {
     "name": "stdout",
     "output_type": "stream",
     "text": [
      "Epoch 1/30\n",
      "   4/3703 [..............................] - ETA: 19:43:57 - loss: 5.6073 - accuracy: 0.0000e+00"
     ]
    }
   ],
   "source": [
    "history2 = model.fit(train_generator,\n",
    "                    epochs=30, steps_per_epoch= len(train_generator), \n",
    "                    validation_data = val_generator,\n",
    "                    validation_steps= len(val_generator),\n",
    "                    callbacks=[cb_checkpoint, early_stopping, lr_scheduler]\n",
    "                )"
   ]
  },
  {
   "cell_type": "code",
   "execution_count": null,
   "metadata": {},
   "outputs": [],
   "source": []
  }
 ],
 "metadata": {
  "kernelspec": {
   "display_name": ".venv",
   "language": "python",
   "name": "python3"
  },
  "language_info": {
   "codemirror_mode": {
    "name": "ipython",
    "version": 3
   },
   "file_extension": ".py",
   "mimetype": "text/x-python",
   "name": "python",
   "nbconvert_exporter": "python",
   "pygments_lexer": "ipython3",
   "version": "3.8.10"
  }
 },
 "nbformat": 4,
 "nbformat_minor": 2
}
